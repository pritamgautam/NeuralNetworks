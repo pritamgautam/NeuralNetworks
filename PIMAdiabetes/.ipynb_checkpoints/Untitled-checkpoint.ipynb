{
 "cells": [
  {
   "cell_type": "markdown",
   "metadata": {},
   "source": [
    "# Load the PIMA diabetes data\n",
    "# some pandas math stuff\n",
    "# correlation and plotting correlation (matplotlib)\n",
    "# check null values, print how many null values for each of them, impute null values with mean and show the new data\n",
    "# split data into test and train\n",
    "# check ratio of train to test\n",
    "# use different model, print confusion matrix, percent and scores??\n",
    "# use cross validation"
   ]
  },
  {
   "cell_type": "code",
   "execution_count": null,
   "metadata": {
    "collapsed": true
   },
   "outputs": [],
   "source": []
  }
 ],
 "metadata": {
  "kernelspec": {
   "display_name": "Python 3",
   "language": "python",
   "name": "python3"
  },
  "language_info": {
   "codemirror_mode": {
    "name": "ipython",
    "version": 3
   },
   "file_extension": ".py",
   "mimetype": "text/x-python",
   "name": "python",
   "nbconvert_exporter": "python",
   "pygments_lexer": "ipython3",
   "version": "3.6.0"
  }
 },
 "nbformat": 4,
 "nbformat_minor": 2
}
